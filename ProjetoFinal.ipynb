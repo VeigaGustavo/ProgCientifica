{
 "cells": [
  {
   "cell_type": "code",
   "id": "initial_id",
   "metadata": {
    "collapsed": true,
    "ExecuteTime": {
     "end_time": "2025-02-03T19:33:10.575285Z",
     "start_time": "2025-02-03T19:33:09.384904Z"
    }
   },
   "source": [
    "import pandas as pd\n",
    "from datetime import datetime"
   ],
   "outputs": [],
   "execution_count": 1
  },
  {
   "metadata": {
    "ExecuteTime": {
     "end_time": "2025-02-03T19:33:26.863215Z",
     "start_time": "2025-02-03T19:33:12.044432Z"
    }
   },
   "cell_type": "code",
   "source": [
    "# Lendo o arquivo Excel criado\n",
    "arquivo_excel = input(\"Informe o nome do arquivo Excel: \")"
   ],
   "id": "e6bf2065532946ef",
   "outputs": [],
   "execution_count": 2
  },
  {
   "metadata": {
    "ExecuteTime": {
     "end_time": "2025-02-03T19:33:33.214945Z",
     "start_time": "2025-02-03T19:33:28.161923Z"
    }
   },
   "cell_type": "code",
   "source": [
    "try:\n",
    "    df = pd.read_excel(arquivo_excel)\n",
    "    print(\"\\nDados importados com sucesso!\")\n",
    "    print(df.head())\n",
    "    print(\"\\nInformações sobre os dados:\")\n",
    "    print(df.info())\n",
    "except FileNotFoundError:\n",
    "    print(\"Arquivo não encontrado. Verifique o caminho e tente novamente.\")\n",
    "except ValueError:\n",
    "    print(\"Erro ao ler o arquivo. Certifique-se de que é um arquivo Excel válido.\")\n",
    "except Exception as e:\n",
    "    print(f\"Ocorreu um erro: {e}\")"
   ],
   "id": "6c822b1b16321cb0",
   "outputs": [
    {
     "name": "stdout",
     "output_type": "stream",
     "text": [
      "\n",
      "Dados importados com sucesso!\n",
      "          POCO      CADASTRO           OPERADOR  POCO_OPERADOR ESTADO  \\\n",
      "0    1-AA-1-RN  721000712200                NaN  1AA  0001  RN     RN   \n",
      "1  1-ABV-1D-RN  721000514700  Potiguar E&P S.A.  1ABV 0001D RN     RN   \n",
      "2   1-AB-1A-SE  901200015200                NaN  1AB  0001A SE     SE   \n",
      "3    1-AB-1-BA  202200153900                NaN  1AB  0001  BA     BA   \n",
      "4    1-AB-1-PA  600300063100                NaN  1AB  0001  PA     PA   \n",
      "\n",
      "            BACIA     BLOCO SIG_CAMPO     CAMPO TERRA_MAR  ...  \\\n",
      "0        Potiguar    Brasil       NaN       NaN         T  ...   \n",
      "1        Potiguar  BT-POT-9     PAT    PATATIVA         T  ...   \n",
      "2         Sergipe    Brasil       NaN       NaN         T  ...   \n",
      "3  Tucano Central    Brasil       NaN       NaN         T  ...   \n",
      "4        Amazonas    Brasil       NaN       NaN         T  ...   \n",
      "\n",
      "  DADOS_DIRECIONAIS  TESTE_A_CABO TESTE_DE_FORMACAO CANHONEIO TESTEMUNHO  \\\n",
      "0               NaN           NaN               NaN       NaN        NaN   \n",
      "1               NaN           NaN               NaN       NaN        NaN   \n",
      "2               NaN           NaN               NaN       NaN        NaN   \n",
      "3               NaN           NaN               NaN       NaN        NaN   \n",
      "4               NaN           NaN               NaN       NaN        NaN   \n",
      "\n",
      "  GEOQUIMICA                       SIG_SONDA               NOM_SONDA  \\\n",
      "0     Existe  CC-1                                               NaN   \n",
      "1     Existe                          SC-110  SONDA CONVENCIONAL 110   \n",
      "2     Existe                           SC-61   SONDA CONVENCIONAL 61   \n",
      "3     Existe                           SC-53   SONDA CONVENCIONAL 53   \n",
      "4     Existe  SM-1                                               NaN   \n",
      "\n",
      "  ATINGIU_PRESAL DHA_ATUALIZACAO  \n",
      "0            NaN      2025-01-26  \n",
      "1            NaN      2025-01-26  \n",
      "2            NaN      2025-01-26  \n",
      "3            NaN      2025-01-26  \n",
      "4            NaN      2025-01-26  \n",
      "\n",
      "[5 rows x 60 columns]\n",
      "\n",
      "Informações sobre os dados:\n",
      "<class 'pandas.core.frame.DataFrame'>\n",
      "RangeIndex: 30900 entries, 0 to 30899\n",
      "Data columns (total 60 columns):\n",
      " #   Column                      Non-Null Count  Dtype         \n",
      "---  ------                      --------------  -----         \n",
      " 0   POCO                        30900 non-null  object        \n",
      " 1   CADASTRO                    30900 non-null  int64         \n",
      " 2   OPERADOR                    27964 non-null  object        \n",
      " 3   POCO_OPERADOR               30900 non-null  object        \n",
      " 4   ESTADO                      30900 non-null  object        \n",
      " 5   BACIA                       30900 non-null  object        \n",
      " 6   BLOCO                       26899 non-null  object        \n",
      " 7   SIG_CAMPO                   26805 non-null  object        \n",
      " 8   CAMPO                       26805 non-null  object        \n",
      " 9   TERRA_MAR                   30900 non-null  object        \n",
      " 10  POCO_POS_ANP                30900 non-null  object        \n",
      " 11  TIPO                        30900 non-null  int64         \n",
      " 12  CATEGORIA                   30900 non-null  object        \n",
      " 13  RECLASSIFICACAO             29361 non-null  object        \n",
      " 14  SITUACAO                    30732 non-null  object        \n",
      " 15  INÕCIO                      30900 non-null  datetime64[ns]\n",
      " 16  T…RMINO                     29018 non-null  datetime64[ns]\n",
      " 17  CONCLUSAO                   30761 non-null  datetime64[ns]\n",
      " 18  TITULARIDADE                30900 non-null  object        \n",
      " 19  LATITUDE_BASE_4C            30900 non-null  object        \n",
      " 20  LONGITUDE_BASE_4C           30900 non-null  object        \n",
      " 21  LATITUDE_BASE_DD            30900 non-null  float64       \n",
      " 22  LONGITUDE_BASE_DD           30900 non-null  float64       \n",
      " 23  DATUM_HORIZONTAL            30900 non-null  object        \n",
      " 24  TIPO_DE_COORDENADA_DE_BASE  30900 non-null  object        \n",
      " 25  DIRECAO                     30900 non-null  object        \n",
      " 26  PROFUNDIDADE_VERTICAL_M     12754 non-null  float64       \n",
      " 27  PROFUNDIDADE_SONDADOR_M     29835 non-null  float64       \n",
      " 28  PROFUNDIDADE_MEDIDA_M       14263 non-null  float64       \n",
      " 29  REFERENCIA_DE_PROFUNDIDADE  30900 non-null  object        \n",
      " 30  MESA_ROTATIVA               30900 non-null  float64       \n",
      " 31  COTA_ALTIMETRICA_M          15022 non-null  float64       \n",
      " 32  LAMINA_D_AGUA_M             17054 non-null  float64       \n",
      " 33  DATUM_VERTICAL              17549 non-null  object        \n",
      " 34  UNIDADE_ESTRATIGRAFICA      0 non-null      float64       \n",
      " 35  GEOLOGIA_GRUPO_FINAL        3472 non-null   object        \n",
      " 36  GEOLOGIA_FORMACAO_FINAL     3752 non-null   object        \n",
      " 37  GEOLOGIA_MEMBRO_FINAL       220 non-null    object        \n",
      " 38  CDPE                        9536 non-null   object        \n",
      " 39  AGP                         6923 non-null   object        \n",
      " 40  PC                          8486 non-null   object        \n",
      " 41  PAG                         1394 non-null   object        \n",
      " 42  PERFIS_CONVENCIONAIS        8884 non-null   object        \n",
      " 43  DURANTE_PERFURACAO          3123 non-null   object        \n",
      " 44  PERFIS_DIGITAIS             20742 non-null  object        \n",
      " 45  PERFIS_PROCESSADOS          1200 non-null   object        \n",
      " 46  PERFIS_ESPECIAIS            691 non-null    object        \n",
      " 47  AMOSTRA_LATERAL             979 non-null    object        \n",
      " 48  SISMICA                     1699 non-null   object        \n",
      " 49  TABELA_TEMPO_PROFUNDIDADE   895 non-null    object        \n",
      " 50  DADOS_DIRECIONAIS           8157 non-null   object        \n",
      " 51  TESTE_A_CABO                4471 non-null   object        \n",
      " 52  TESTE_DE_FORMACAO           653 non-null    object        \n",
      " 53  CANHONEIO                   1355 non-null   object        \n",
      " 54  TESTEMUNHO                  437 non-null    object        \n",
      " 55  GEOQUIMICA                  3146 non-null   object        \n",
      " 56  SIG_SONDA                   30814 non-null  object        \n",
      " 57  NOM_SONDA                   26780 non-null  object        \n",
      " 58  ATINGIU_PRESAL              9136 non-null   object        \n",
      " 59  DHA_ATUALIZACAO             30900 non-null  datetime64[ns]\n",
      "dtypes: datetime64[ns](4), float64(9), int64(2), object(45)\n",
      "memory usage: 14.1+ MB\n",
      "None\n"
     ]
    }
   ],
   "execution_count": 3
  }
 ],
 "metadata": {
  "kernelspec": {
   "display_name": "Python 3",
   "language": "python",
   "name": "python3"
  },
  "language_info": {
   "codemirror_mode": {
    "name": "ipython",
    "version": 2
   },
   "file_extension": ".py",
   "mimetype": "text/x-python",
   "name": "python",
   "nbconvert_exporter": "python",
   "pygments_lexer": "ipython2",
   "version": "2.7.6"
  }
 },
 "nbformat": 4,
 "nbformat_minor": 5
}
