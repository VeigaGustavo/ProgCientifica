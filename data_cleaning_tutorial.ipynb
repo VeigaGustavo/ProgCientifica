{
 "cells": [
  {
   "cell_type": "markdown",
   "id": "d4e0729b",
   "metadata": {},
   "source": [
    "# Geração e Limpeza de Dados Fictícios com Python\n",
    "Este notebook demonstra como gerar um conjunto de dados fictícios, introduzir problemas comuns e realizar sua limpeza usando Python."
   ]
  },
  {
   "cell_type": "markdown",
   "id": "c8336edf",
   "metadata": {},
   "source": [
    "## 1. Importação de Bibliotecas"
   ]
  },
  {
   "cell_type": "code",
   "execution_count": null,
   "id": "24c13c4f",
   "metadata": {},
   "outputs": [],
   "source": [
    "import pandas as pd\n",
    "from faker import Faker\n",
    "import random\n",
    "import numpy as np"
   ]
  },
  {
   "cell_type": "markdown",
   "id": "9af220c4",
   "metadata": {},
   "source": [
    "## 2. Geração de Dados Fictícios"
   ]
  },
  {
   "cell_type": "code",
   "execution_count": null,
   "id": "72fa0421",
   "metadata": {},
   "outputs": [],
   "source": [
    "fake = Faker('pt-BR')\n",
    "registros = []\n",
    "num_registros = 10\n",
    "\n",
    "for _ in range(num_registros):\n",
    "    registro = {\n",
    "        'id': fake.uuid4(),\n",
    "        'nome': fake.name(),\n",
    "        'email': fake.email(),\n",
    "        'telefone': fake.phone_number(),\n",
    "        'data_nascimento': fake.date_of_birth(minimum_age=18, maximum_age=90),\n",
    "        'endereco': fake.address(),\n",
    "        'salario': round(random.uniform(1000, 10000), 2),\n",
    "    }\n",
    "    registros.append(registro)\n",
    "\n",
    "df = pd.DataFrame(registros)\n",
    "df"
   ]
  },
  {
   "cell_type": "markdown",
   "id": "0ce9f936",
   "metadata": {},
   "source": [
    "## 3. Introduzindo Problemas no Conjunto de Dados\n",
    "### 3.1 Valores Nulos"
   ]
  },
  {
   "cell_type": "code",
   "execution_count": null,
   "id": "4a6b8947",
   "metadata": {},
   "outputs": [],
   "source": [
    "for _ in range(int(len(df) * 0.1)):\n",
    "    idx = random.randint(0, len(df) - 1)\n",
    "    col = random.choice(df.columns)\n",
    "    df.at[idx, col] = np.nan"
   ]
  },
  {
   "cell_type": "markdown",
   "id": "7fb4a3b1",
   "metadata": {},
   "source": [
    "### 3.2 Introduzir Duplicatas"
   ]
  },
  {
   "cell_type": "code",
   "execution_count": null,
   "id": "cf476cd8",
   "metadata": {},
   "outputs": [],
   "source": [
    "duplicatas = df.sample(frac=0.5)\n",
    "df = pd.concat([df, duplicatas])"
   ]
  },
  {
   "cell_type": "markdown",
   "id": "288dc1c9",
   "metadata": {},
   "source": [
    "### 3.3 Introduzir Formatação Inconsistente"
   ]
  },
  {
   "cell_type": "code",
   "execution_count": null,
   "id": "fa567cf4",
   "metadata": {},
   "outputs": [],
   "source": [
    "for _ in range(int(len(df) * 0.05)):\n",
    "    idx = random.randint(0, len(df) - 1)\n",
    "    email = df.iloc[idx]['email']\n",
    "    nome = df.iloc[idx]['nome']\n",
    "    if pd.notna(email):\n",
    "        df.at[idx, 'email'] = email.replace('@', ' at ')\n",
    "    if pd.notna(nome):\n",
    "        df.at[idx, 'nome'] = nome.upper()"
   ]
  },
  {
   "cell_type": "markdown",
   "id": "e7fc282b",
   "metadata": {},
   "source": [
    "## 4. Verificação e Limpeza de Dados"
   ]
  },
  {
   "cell_type": "code",
   "execution_count": null,
   "id": "7240339f",
   "metadata": {},
   "outputs": [],
   "source": [
    "print(df.isnull().sum())"
   ]
  },
  {
   "cell_type": "markdown",
   "id": "577bb5da",
   "metadata": {},
   "source": [
    "### 4.1 Remover ou Preencher Valores Nulos"
   ]
  },
  {
   "cell_type": "code",
   "execution_count": null,
   "id": "e3a7f5c3",
   "metadata": {},
   "outputs": [],
   "source": [
    "df = df.loc[:, df.isnull().mean() < 0.5]  # Remove colunas com +50% de valores nulos\n",
    "df = df.dropna()  # Remove linhas com valores nulos\n",
    "df.fillna({'email': df['email'].mode()[0], 'telefone': df['telefone'].mode()[0]}, inplace=True)"
   ]
  },
  {
   "cell_type": "markdown",
   "id": "ae016739",
   "metadata": {},
   "source": [
    "### 4.2 Remover Duplicatas"
   ]
  },
  {
   "cell_type": "code",
   "execution_count": null,
   "id": "ab1993ec",
   "metadata": {},
   "outputs": [],
   "source": [
    "print(f\"Número de duplicatas: {df.duplicated().sum()}\")\n",
    "df = df.drop_duplicates()"
   ]
  },
  {
   "cell_type": "markdown",
   "id": "052dc1e8",
   "metadata": {},
   "source": [
    "### 4.3 Corrigir Formatação de Dados"
   ]
  },
  {
   "cell_type": "code",
   "execution_count": null,
   "id": "d10b9d7d",
   "metadata": {},
   "outputs": [],
   "source": [
    "df.loc[:, 'email'] = df['email'].str.replace(r' \\[at\\] ', '@', regex=True)\n",
    "df.loc[:, 'nome'] = df['nome'].str.title()"
   ]
  },
  {
   "cell_type": "markdown",
   "id": "63378b3b",
   "metadata": {},
   "source": [
    "## Conclusão\n",
    "Esse notebook mostrou um pipeline completo de geração, corrupção e limpeza de dados. Se tiver dúvidas, fique à vontade para explorar e modificar o código!"
   ]
  }
 ],
 "metadata": {},
 "nbformat": 4,
 "nbformat_minor": 5
}
